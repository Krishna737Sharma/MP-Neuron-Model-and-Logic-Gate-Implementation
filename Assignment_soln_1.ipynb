{
  "nbformat": 4,
  "nbformat_minor": 0,
  "metadata": {
    "colab": {
      "provenance": [],
      "authorship_tag": "ABX9TyPPjrROpm2VnRi1Hs/TVJOd",
      "include_colab_link": true
    },
    "kernelspec": {
      "name": "python3",
      "display_name": "Python 3"
    },
    "language_info": {
      "name": "python"
    }
  },
  "cells": [
    {
      "cell_type": "markdown",
      "metadata": {
        "id": "view-in-github",
        "colab_type": "text"
      },
      "source": [
        "<a href=\"https://colab.research.google.com/github/Krishna737Sharma/MP-Neuron-Model-and-Logic-Gate-Implementation/blob/main/Assignment_soln_1.ipynb\" target=\"_parent\"><img src=\"https://colab.research.google.com/assets/colab-badge.svg\" alt=\"Open In Colab\"/></a>"
      ]
    },
    {
      "cell_type": "code",
      "source": [
        "import numpy as np\n",
        "import matplotlib.pyplot as plt\n",
        "from sklearn.inspection import DecisionBoundaryDisplay"
      ],
      "metadata": {
        "id": "5M2qJH1MoLCI"
      },
      "execution_count": null,
      "outputs": []
    },
    {
      "cell_type": "code",
      "execution_count": null,
      "metadata": {
        "id": "JsU8VA2qX4Ah"
      },
      "outputs": [],
      "source": [
        "# MP Neuron Model\n",
        "def mp_neuron(inputs,threshold,inhibitory_indices=[]):\n",
        "  net_input=np.sum(inputs)\n",
        "  for idx in inhibitory_indices:\n",
        "    net_input -= inputs[idx]\n",
        "    if inputs[idx]>=0.5:\n",
        "      return 0\n",
        "  return 1 if net_input>= threshold else 0"
      ]
    },
    {
      "cell_type": "code",
      "source": [
        "# Boolean Functions\n",
        "## AND Function\n",
        "def and_function(x1,x2):\n",
        "  return mp_neuron(np.array([x1,x2]),2)\n",
        "\n",
        "## OR Function\n",
        "def or_function(x1,x2):\n",
        "  return mp_neuron(np.array([x1,x2]),1)\n",
        "\n",
        "## NOT Function using inhibitory input\n",
        "def not_function(x1):\n",
        "  return mp_neuron(np.array([x1]),-np.inf,inhibitory_indices=[0])"
      ],
      "metadata": {
        "id": "LdQnGmoxvjQT"
      },
      "execution_count": null,
      "outputs": []
    },
    {
      "cell_type": "markdown",
      "source": [
        "# **Task-1**"
      ],
      "metadata": {
        "id": "d4XliO03zf5e"
      }
    },
    {
      "cell_type": "code",
      "source": [
        "def nand_function(x1, x2):\n",
        "    # NAND is opposite of AND, so we can use NOT(AND)\n",
        "    and_op=and_function(x1,x2)\n",
        "    return not_function(and_op)"
      ],
      "metadata": {
        "id": "-2FI_48arm08"
      },
      "execution_count": null,
      "outputs": []
    },
    {
      "cell_type": "code",
      "source": [
        "# Test cases for NAND\n",
        "inputs_NAND = [[0, 0],[0, 1],[1, 0],[1, 1]]\n",
        "ground_truth_NAND = [1,1,1,0]\n",
        "\n",
        "outputs_NAND=[]\n",
        "for input in inputs_NAND:\n",
        "    outputs_NAND.append(nand_function(input[0],input[1]))\n",
        "\n",
        "print(\"Inputs for NAND\")\n",
        "print(inputs_NAND)\n",
        "print(\"Ground Truth for NAND\")\n",
        "print(ground_truth_NAND)\n",
        "print(\"Outputs for NAND\")\n",
        "print(outputs_NAND)"
      ],
      "metadata": {
        "colab": {
          "base_uri": "https://localhost:8080/"
        },
        "id": "ziMgZNk5fk24",
        "outputId": "428dac3d-c9d2-452f-c94d-55484844d9f8"
      },
      "execution_count": null,
      "outputs": [
        {
          "output_type": "stream",
          "name": "stdout",
          "text": [
            "Inputs for NAND\n",
            "[[0, 0], [0, 1], [1, 0], [1, 1]]\n",
            "Ground Truth for NAND\n",
            "[1, 1, 1, 0]\n",
            "Outputs for NAND\n",
            "[1, 1, 1, 0]\n"
          ]
        }
      ]
    },
    {
      "cell_type": "markdown",
      "source": [
        "Here 2 MP neuron is used"
      ],
      "metadata": {
        "id": "119EpKIxlH-6"
      }
    },
    {
      "cell_type": "markdown",
      "source": [
        "# **Task-2**"
      ],
      "metadata": {
        "id": "k810nqzb0Fp8"
      }
    },
    {
      "cell_type": "code",
      "source": [
        "# NOR Gate Implementation\n",
        "def nor_function(x1, x2):\n",
        "    # We can do this with a single MP neuron by adjusting the threshold\n",
        "    return mp_neuron(np.array([x1,x2]), -np.inf ,[0,1])"
      ],
      "metadata": {
        "id": "Wza1x_G7j58R"
      },
      "execution_count": null,
      "outputs": []
    },
    {
      "cell_type": "code",
      "source": [
        "# Test cases for NOR\n",
        "inputs_NOR = [[0, 0], [0, 1], [1, 0], [1, 1]]\n",
        "ground_truth_NOR = [1, 0, 0, 0]\n",
        "\n",
        "outputs_NOR = []\n",
        "for input in inputs_NOR:\n",
        "    outputs_NOR.append(nor_function(input[0], input[1]))\n",
        "\n",
        "print(\"Inputs for NOR\")\n",
        "print(inputs_NOR)\n",
        "print(\"Ground Truth for NOR\")\n",
        "print(ground_truth_NOR)\n",
        "print(\"Outputs for NOR\")\n",
        "print(outputs_NOR)"
      ],
      "metadata": {
        "id": "NtW7datinkY8",
        "outputId": "caab14bb-e6fa-4182-8e25-b3cdaf5c9d2e",
        "colab": {
          "base_uri": "https://localhost:8080/"
        }
      },
      "execution_count": null,
      "outputs": [
        {
          "output_type": "stream",
          "name": "stdout",
          "text": [
            "Inputs for NOR\n",
            "[[0, 0], [0, 1], [1, 0], [1, 1]]\n",
            "Ground Truth for NOR\n",
            "[1, 0, 0, 0]\n",
            "Outputs for NOR\n",
            "[1, 0, 0, 0]\n"
          ]
        }
      ]
    },
    {
      "cell_type": "markdown",
      "source": [
        "Here only single MP neuron used"
      ],
      "metadata": {
        "id": "DR4pExlslaue"
      }
    },
    {
      "cell_type": "markdown",
      "source": [
        "# **Task-3**"
      ],
      "metadata": {
        "id": "Z4RStMQ30KBj"
      }
    },
    {
      "cell_type": "code",
      "source": [
        "## XOR Function\n",
        "# Here POS form of XOR gate is used for reducing no. of gate to 4\n",
        "def xor_function(x1, x2):\n",
        "    or_output = or_function(x1, x2)          # A OR B\n",
        "    nand_output = nand_function(x1, x2)       # A AND B\n",
        "    return and_function(or_output, nand_output)  # (A OR B) AND NOT (A AND B)"
      ],
      "metadata": {
        "id": "CsB3Z5nAud09"
      },
      "execution_count": null,
      "outputs": []
    },
    {
      "cell_type": "code",
      "source": [
        "# Test cases for XOR\n",
        "inputs_XOR = [[0, 0], [0, 1], [1, 0], [1, 1]]\n",
        "ground_truth_XOR = [0, 1, 1, 0]\n",
        "\n",
        "outputs_XOR = []\n",
        "for input in inputs_XOR:\n",
        "    outputs_XOR.append(xor_function(input[0], input[1]))\n",
        "\n",
        "print(\"Inputs for XOR\")\n",
        "print(inputs_XOR)\n",
        "print(\"Ground Truth for XOR\")\n",
        "print(ground_truth_XOR)\n",
        "print(\"Outputs for XOR\")\n",
        "print(outputs_XOR)"
      ],
      "metadata": {
        "colab": {
          "base_uri": "https://localhost:8080/"
        },
        "id": "-GyLKrZEnkGV",
        "outputId": "4b0ea741-aa34-4976-fdfa-d0dabe48ec65"
      },
      "execution_count": null,
      "outputs": [
        {
          "output_type": "stream",
          "name": "stdout",
          "text": [
            "Inputs for XOR\n",
            "[[0, 0], [0, 1], [1, 0], [1, 1]]\n",
            "Ground Truth for XOR\n",
            "[0, 1, 1, 0]\n",
            "Outputs for XOR\n",
            "[0, 1, 1, 0]\n"
          ]
        }
      ]
    },
    {
      "cell_type": "markdown",
      "source": [
        "Here 4 MP neuron used"
      ],
      "metadata": {
        "id": "9oCgeFzbnbeV"
      }
    },
    {
      "cell_type": "markdown",
      "source": [
        "# **Task-4**"
      ],
      "metadata": {
        "id": "D6y8v19c1EvZ"
      }
    },
    {
      "cell_type": "code",
      "source": [
        "# Function to plot decision boundary\n",
        "def plot_decision_boundary(function_name, logic_function):\n",
        "    inputs = np.array([[0, 0], [0, 1], [1, 0], [1, 1]])\n",
        "    outputs = np.array([logic_function(x[0], x[1]) for x in inputs])\n",
        "\n",
        "    # Generate grid points\n",
        "    xx, yy = np.meshgrid(np.linspace(-0.5, 1.5, 100), np.linspace(-0.5, 1.5, 100))\n",
        "    Z = np.array([logic_function(xi, yi) for xi, yi in zip(xx.ravel(), yy.ravel())])\n",
        "    Z = Z.reshape(xx.shape)\n",
        "\n",
        "    # Plot\n",
        "    plt.figure(figsize=(6, 6))\n",
        "    disp = DecisionBoundaryDisplay(xx0=xx, xx1=yy, response=Z)\n",
        "    disp.plot(cmap=plt.cm.Paired, alpha=0.5)\n",
        "    plt.scatter(inputs[:, 0], inputs[:, 1], c=outputs, edgecolor=\"k\", cmap=plt.cm.Paired)\n",
        "    plt.title(f\"MP-Neuron: {function_name} Decision Boundary\")\n",
        "    plt.xlabel('Input 1')\n",
        "    plt.ylabel('Input 2')\n",
        "    plt.show()"
      ],
      "metadata": {
        "id": "GOwG5jEHX48J"
      },
      "execution_count": null,
      "outputs": []
    },
    {
      "cell_type": "code",
      "source": [
        "# Plot decision boundaries for NAND\n",
        "plot_decision_boundary(\"NAND\", nand_function)"
      ],
      "metadata": {
        "colab": {
          "base_uri": "https://localhost:8080/",
          "height": 489
        },
        "id": "jN1i4ijj1Xkz",
        "outputId": "7046ac2b-14db-424f-e197-697440d32346"
      },
      "execution_count": null,
      "outputs": [
        {
          "output_type": "display_data",
          "data": {
            "text/plain": [
              "<Figure size 600x600 with 0 Axes>"
            ]
          },
          "metadata": {}
        },
        {
          "output_type": "display_data",
          "data": {
            "text/plain": [
              "<Figure size 640x480 with 1 Axes>"
            ],
            "image/png": "[encoded data removed]"
          },
          "metadata": {}
        }
      ]
    },
    {
      "cell_type": "markdown",
      "source": [
        "Decision boundary is a straight line because the function is a simple negation of AND. A straight line separates the region where both inputs are 1 (output 0) from all other combinations (output 1). and it is just opposite to AND decision boundary as we see in class."
      ],
      "metadata": {
        "id": "Hvc2vugu3znW"
      }
    },
    {
      "cell_type": "code",
      "source": [
        "# Plot decision boundaries for NOR\n",
        "plot_decision_boundary(\"NOR\", nor_function)"
      ],
      "metadata": {
        "colab": {
          "base_uri": "https://localhost:8080/",
          "height": 489
        },
        "id": "QWB6eBN01XWS",
        "outputId": "edeb4fdc-20de-4bf1-ac49-c7eb8bb9c2e8"
      },
      "execution_count": null,
      "outputs": [
        {
          "output_type": "display_data",
          "data": {
            "text/plain": [
              "<Figure size 600x600 with 0 Axes>"
            ]
          },
          "metadata": {}
        },
        {
          "output_type": "display_data",
          "data": {
            "text/plain": [
              "<Figure size 640x480 with 1 Axes>"
            ],
            "image/png": "[encoded data removed]"
          },
          "metadata": {}
        }
      ]
    },
    {
      "cell_type": "markdown",
      "source": [
        "Decision boundary is a rectangular shape because the (0,0) input giving true value which is seperated by remaining inputs from 0.5 because of inhibitors value is >=0.5 So, less than that all inputs showing true"
      ],
      "metadata": {
        "id": "W4jlRxjx4zgs"
      }
    },
    {
      "cell_type": "code",
      "source": [
        "# Plot decision boundaries for XOR\n",
        "plot_decision_boundary(\"XOR\", xor_function)"
      ],
      "metadata": {
        "colab": {
          "base_uri": "https://localhost:8080/",
          "height": 489
        },
        "id": "5i199vo41XSv",
        "outputId": "5b0a0323-d41c-44aa-fd7e-d0761895b175"
      },
      "execution_count": null,
      "outputs": [
        {
          "output_type": "display_data",
          "data": {
            "text/plain": [
              "<Figure size 600x600 with 0 Axes>"
            ]
          },
          "metadata": {}
        },
        {
          "output_type": "display_data",
          "data": {
            "text/plain": [
              "<Figure size 640x480 with 1 Axes>"
            ],
            "image/png": "[encoded data removed]"
          },
          "metadata": {}
        }
      ]
    },
    {
      "cell_type": "markdown",
      "source": [
        "Desion boundary is like 2 parallel path because XOR is not linearly separable because no single straight line can separate the 1 outputs from the 0 outputs in the input space. This requires at least two linear boundaries combined, leading to a non-linear decision boundary."
      ],
      "metadata": {
        "id": "lkjpAXI-NZ6C"
      }
    },
    {
      "cell_type": "markdown",
      "source": [
        "# **Task-5**"
      ],
      "metadata": {
        "id": "J_Mlv39a14kt"
      }
    },
    {
      "cell_type": "code",
      "source": [
        "def xor_n_input(x):\n",
        "    \"\"\"\n",
        "    Implements n-input XOR using the given MP neuron function.\n",
        "    Returns 1 when there are an odd number of 1s in the input.\n",
        "    \"\"\"\n",
        "    x = np.array(x)\n",
        "    if len(x) == 1:\n",
        "      return x\n",
        "    if len(x) == 2:\n",
        "      return (xor_function(x[0], x[1]))\n",
        "    return xor_n_input(np.array([x[-1],xor_n_input(x[:-1])]))"
      ],
      "metadata": {
        "id": "DGgqp8J6Te1l"
      },
      "execution_count": null,
      "outputs": []
    },
    {
      "cell_type": "code",
      "source": [
        "# Test cases for 3-input XOR\n",
        "\n",
        "for i in range(2):\n",
        "  for j in range(2):\n",
        "    for k in range(2):\n",
        "      print('XOR(',i,',',j,',',k,') = ',xor_n_input(np.array([i,j,k])))"
      ],
      "metadata": {
        "colab": {
          "base_uri": "https://localhost:8080/"
        },
        "id": "p-CdCowqmXDX",
        "outputId": "d3634d6b-f58c-4252-9450-96281bb4884b"
      },
      "execution_count": null,
      "outputs": [
        {
          "output_type": "stream",
          "name": "stdout",
          "text": [
            "XOR( 0 , 0 , 0 ) =  0\n",
            "XOR( 0 , 0 , 1 ) =  1\n",
            "XOR( 0 , 1 , 0 ) =  1\n",
            "XOR( 0 , 1 , 1 ) =  0\n",
            "XOR( 1 , 0 , 0 ) =  1\n",
            "XOR( 1 , 0 , 1 ) =  0\n",
            "XOR( 1 , 1 , 0 ) =  0\n",
            "XOR( 1 , 1 , 1 ) =  1\n"
          ]
        }
      ]
    },
    {
      "cell_type": "code",
      "source": [
        "# Test cases for 4-input XOR\n",
        "\n",
        "for i in range(2):\n",
        "  for j in range(2):\n",
        "    for k in range(2):\n",
        "      for l in range(2):\n",
        "        print('XOR(',i,',',j,',',k,',',l,') = ',xor_n_input(np.array([i,j,k,l])))"
      ],
      "metadata": {
        "colab": {
          "base_uri": "https://localhost:8080/"
        },
        "id": "3iXf5BxoTex3",
        "outputId": "6d97ba7c-bec1-4313-821f-3c9f634c4cd3"
      },
      "execution_count": null,
      "outputs": [
        {
          "output_type": "stream",
          "name": "stdout",
          "text": [
            "XOR( 0 , 0 , 0 , 0 ) =  0\n",
            "XOR( 0 , 0 , 0 , 1 ) =  1\n",
            "XOR( 0 , 0 , 1 , 0 ) =  1\n",
            "XOR( 0 , 0 , 1 , 1 ) =  0\n",
            "XOR( 0 , 1 , 0 , 0 ) =  1\n",
            "XOR( 0 , 1 , 0 , 1 ) =  0\n",
            "XOR( 0 , 1 , 1 , 0 ) =  0\n",
            "XOR( 0 , 1 , 1 , 1 ) =  1\n",
            "XOR( 1 , 0 , 0 , 0 ) =  1\n",
            "XOR( 1 , 0 , 0 , 1 ) =  0\n",
            "XOR( 1 , 0 , 1 , 0 ) =  0\n",
            "XOR( 1 , 0 , 1 , 1 ) =  1\n",
            "XOR( 1 , 1 , 0 , 0 ) =  0\n",
            "XOR( 1 , 1 , 0 , 1 ) =  1\n",
            "XOR( 1 , 1 , 1 , 0 ) =  1\n",
            "XOR( 1 , 1 , 1 , 1 ) =  0\n"
          ]
        }
      ]
    }
  ]
}