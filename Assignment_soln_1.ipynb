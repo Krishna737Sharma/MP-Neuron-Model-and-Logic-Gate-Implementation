{
  "nbformat": 4,
  "nbformat_minor": 0,
  "metadata": {
    "colab": {
      "provenance": [],
      "authorship_tag": "ABX9TyNbVgKKLP0vNPWXVKhzfcCy",
      "include_colab_link": true
    },
    "kernelspec": {
      "name": "python3",
      "display_name": "Python 3"
    },
    "language_info": {
      "name": "python"
    }
  },
  "cells": [
    {
      "cell_type": "markdown",
      "metadata": {
        "id": "view-in-github",
        "colab_type": "text"
      },
      "source": [
        "<a href=\"https://colab.research.google.com/github/Krishna737Sharma/MP-Neuron-Model-and-Logic-Gate-Implementation/blob/main/Assignment_soln_1.ipynb\" target=\"_parent\"><img src=\"https://colab.research.google.com/assets/colab-badge.svg\" alt=\"Open In Colab\"/></a>"
      ]
    },
    {
      "cell_type": "code",
      "source": [
        "import numpy as np\n",
        "import matplotlib.pyplot as plt\n",
        "from sklearn.inspection import DecisionBoundaryDisplay"
      ],
      "metadata": {
        "id": "5M2qJH1MoLCI"
      },
      "execution_count": 1,
      "outputs": []
    },
    {
      "cell_type": "code",
      "execution_count": 2,
      "metadata": {
        "id": "JsU8VA2qX4Ah"
      },
      "outputs": [],
      "source": [
        "# MP Neuron Model\n",
        "def mp_neuron(inputs,threshold,inhibitory_indices=[]):\n",
        "  net_input=np.sum(inputs)\n",
        "  for idx in inhibitory_indices:\n",
        "    net_input -= inputs[idx]\n",
        "    if inputs[idx]>=0.5:\n",
        "      return 0\n",
        "  return 1 if net_input>= threshold else 0"
      ]
    },
    {
      "cell_type": "code",
      "source": [
        "# Boolean Functions\n",
        "## AND Function\n",
        "def and_function(x1,x2):\n",
        "  return mp_neuron(np.array([x1,x2]),2)\n",
        "\n",
        "## OR Function\n",
        "def or_function(x1,x2):\n",
        "  return mp_neuron(np.array([x1,x2]),1)\n",
        "\n",
        "## NOT Function using inhibitory input\n",
        "def not_function(x1):\n",
        "  return mp_neuron(np.array([x1]),-np.inf,inhibitory_indices=[0])"
      ],
      "metadata": {
        "id": "LdQnGmoxvjQT"
      },
      "execution_count": 3,
      "outputs": []
    },
    {
      "cell_type": "markdown",
      "source": [
        "# **Task-1**"
      ],
      "metadata": {
        "id": "d4XliO03zf5e"
      }
    },
    {
      "cell_type": "code",
      "source": [
        "def nand_function(x1, x2):\n",
        "    # NAND is opposite of AND, so we can use NOT(AND)\n",
        "    # We can do this with a single MP neuron by adjusting the threshold but number of XOR neuron get increase\n",
        "    and_op=and_function(x1,x2)\n",
        "    return not_function(and_op)"
      ],
      "metadata": {
        "id": "-2FI_48arm08"
      },
      "execution_count": 4,
      "outputs": []
    },
    {
      "cell_type": "code",
      "source": [
        "# Test cases for NAND\n",
        "inputs_NAND = [[0, 0],[0, 1],[1, 0],[1, 1]]\n",
        "ground_truth_NAND = [1,1,1,0]\n",
        "\n",
        "outputs_NAND=[]\n",
        "for input in inputs_NAND:\n",
        "    outputs_NAND.append(nand_function(input[0],input[1]))\n",
        "\n",
        "print(\"Inputs for NAND\")\n",
        "print(inputs_NAND)\n",
        "print(\"Ground Truth for NAND\")\n",
        "print(ground_truth_NAND)\n",
        "print(\"Outputs for NAND\")\n",
        "print(outputs_NAND)"
      ],
      "metadata": {
        "colab": {
          "base_uri": "https://localhost:8080/"
        },
        "id": "ziMgZNk5fk24",
        "outputId": "3de567fb-e4fc-43af-c566-bc53a2481d5c"
      },
      "execution_count": 5,
      "outputs": [
        {
          "output_type": "stream",
          "name": "stdout",
          "text": [
            "Inputs for NAND\n",
            "[[0, 0], [0, 1], [1, 0], [1, 1]]\n",
            "Ground Truth for NAND\n",
            "[1, 1, 1, 0]\n",
            "Outputs for NAND\n",
            "[1, 1, 1, 0]\n"
          ]
        }
      ]
    },
    {
      "cell_type": "markdown",
      "source": [
        "# **Task-2**"
      ],
      "metadata": {
        "id": "k810nqzb0Fp8"
      }
    },
    {
      "cell_type": "code",
      "source": [
        "# NOR Gate Implementation\n",
        "def nor_function(x1, x2):\n",
        "    # NOR is opposite of OR, so we can use NOT(OR)\n",
        "    # We can do this with a single MP neuron by adjusting the threshold but no. of XOR neuron increase\n",
        "    or_op=or_function(x1,x2)\n",
        "    return not_function(or_op)"
      ],
      "metadata": {
        "id": "Q07YnEXtsCeL"
      },
      "execution_count": 6,
      "outputs": []
    },
    {
      "cell_type": "code",
      "source": [
        "# Test cases for NOR\n",
        "inputs_NOR = [[0, 0], [0, 1], [1, 0], [1, 1]]\n",
        "ground_truth_NOR = [1, 0, 0, 0]\n",
        "\n",
        "outputs_NOR = []\n",
        "for input in inputs_NOR:\n",
        "    outputs_NOR.append(nor_function(input[0], input[1]))\n",
        "\n",
        "print(\"Inputs for NOR\")\n",
        "print(inputs_NOR)\n",
        "print(\"Ground Truth for NOR\")\n",
        "print(ground_truth_NOR)\n",
        "print(\"Outputs for NOR\")\n",
        "print(outputs_NOR)\n"
      ],
      "metadata": {
        "id": "NtW7datinkY8",
        "outputId": "f9ada92a-7fde-415c-9afa-4ffe128fb4d8",
        "colab": {
          "base_uri": "https://localhost:8080/"
        }
      },
      "execution_count": 7,
      "outputs": [
        {
          "output_type": "stream",
          "name": "stdout",
          "text": [
            "Inputs for NOR\n",
            "[[0, 0], [0, 1], [1, 0], [1, 1]]\n",
            "Ground Truth for NOR\n",
            "[1, 0, 0, 0]\n",
            "Outputs for NOR\n",
            "[1, 0, 0, 0]\n"
          ]
        }
      ]
    },
    {
      "cell_type": "markdown",
      "source": [
        "# **Task-3**"
      ],
      "metadata": {
        "id": "Z4RStMQ30KBj"
      }
    },
    {
      "cell_type": "code",
      "source": [
        "## XOR Function\n",
        "# Here POS form of XOR gate is used for reducing no. of gate to 3\n",
        "def xor_function(x1, x2):\n",
        "    or_output = or_function(x1, x2)          # A OR B\n",
        "    nand_output = nand_function(x1, x2)       # A AND B\n",
        "    return and_function(or_output, nand_output)  # (A OR B) AND NOT (A AND B)"
      ],
      "metadata": {
        "id": "CsB3Z5nAud09"
      },
      "execution_count": 8,
      "outputs": []
    },
    {
      "cell_type": "code",
      "source": [
        "# Test cases for XOR\n",
        "inputs_XOR = [[0, 0], [0, 1], [1, 0], [1, 1]]\n",
        "ground_truth_XOR = [0, 1, 1, 0]\n",
        "\n",
        "outputs_XOR = []\n",
        "for input in inputs_XOR:\n",
        "    outputs_XOR.append(xor_function(input[0], input[1]))\n",
        "\n",
        "print(\"Inputs for XOR\")\n",
        "print(inputs_XOR)\n",
        "print(\"Ground Truth for XOR\")\n",
        "print(ground_truth_XOR)\n",
        "print(\"Outputs for XOR\")\n",
        "print(outputs_XOR)\n"
      ],
      "metadata": {
        "colab": {
          "base_uri": "https://localhost:8080/"
        },
        "id": "-GyLKrZEnkGV",
        "outputId": "e349daf1-63fb-480f-e2f0-0fb3f3912f52"
      },
      "execution_count": 9,
      "outputs": [
        {
          "output_type": "stream",
          "name": "stdout",
          "text": [
            "Inputs for XOR\n",
            "[[0, 0], [0, 1], [1, 0], [1, 1]]\n",
            "Ground Truth for XOR\n",
            "[0, 1, 1, 0]\n",
            "Outputs for XOR\n",
            "[0, 1, 1, 0]\n"
          ]
        }
      ]
    },
    {
      "cell_type": "markdown",
      "source": [
        "# **Task-4**"
      ],
      "metadata": {
        "id": "D6y8v19c1EvZ"
      }
    },
    {
      "cell_type": "code",
      "source": [
        "# Function to plot decision boundary\n",
        "def plot_decision_boundary(function_name, logic_function):\n",
        "    inputs = np.array([[0, 0], [0, 1], [1, 0], [1, 1]])\n",
        "    outputs = np.array([logic_function(x[0], x[1]) for x in inputs])\n",
        "\n",
        "    # Generate grid points\n",
        "    xx, yy = np.meshgrid(np.linspace(-0.5, 1.5, 100), np.linspace(-0.5, 1.5, 100))\n",
        "    Z = np.array([logic_function(xi, yi) for xi, yi in zip(xx.ravel(), yy.ravel())])\n",
        "    Z = Z.reshape(xx.shape)\n",
        "\n",
        "    # Plot\n",
        "    plt.figure(figsize=(6, 6))\n",
        "    disp = DecisionBoundaryDisplay(xx0=xx, xx1=yy, response=Z)\n",
        "    disp.plot(cmap=plt.cm.Paired, alpha=0.5)\n",
        "    plt.scatter(inputs[:, 0], inputs[:, 1], c=outputs, edgecolor=\"k\", cmap=plt.cm.Paired)\n",
        "    plt.title(f\"MP-Neuron: {function_name} Decision Boundary\")\n",
        "    plt.xlabel('Input 1')\n",
        "    plt.ylabel('Input 2')\n",
        "    plt.show()"
      ],
      "metadata": {
        "id": "GOwG5jEHX48J"
      },
      "execution_count": 10,
      "outputs": []
    },
    {
      "cell_type": "code",
      "source": [
        "# Plot decision boundaries for NAND\n",
        "plot_decision_boundary(\"NAND\", nand_function)"
      ],
      "metadata": {
        "colab": {
          "base_uri": "https://localhost:8080/",
          "height": 489
        },
        "id": "jN1i4ijj1Xkz",
        "outputId": "aed17a5b-d68b-4e65-9c0b-2938f84e4a16"
      },
      "execution_count": 11,
      "outputs": [
        {
          "output_type": "display_data",
          "data": {
            "text/plain": [
              "<Figure size 600x600 with 0 Axes>"
            ]
          },
          "metadata": {}
        },
        {
          "output_type": "display_data",
          "data": {
            "text/plain": [
              "<Figure size 640x480 with 1 Axes>"
            ],
            "image/png": "[encoded data removed]"
          },
          "metadata": {}
        }
      ]
    },
    {
      "cell_type": "markdown",
      "source": [
        "Decision boundary is a straight line because the function is a simple negation of AND. A straight line separates the region where both inputs are 1 (output 0) from all other combinations (output 1). and it is just opposite to AND decision boundary as we see in class."
      ],
      "metadata": {
        "id": "Hvc2vugu3znW"
      }
    },
    {
      "cell_type": "code",
      "source": [
        "# Plot decision boundaries for NOR\n",
        "plot_decision_boundary(\"NOR\", nor_function)"
      ],
      "metadata": {
        "colab": {
          "base_uri": "https://localhost:8080/",
          "height": 489
        },
        "id": "QWB6eBN01XWS",
        "outputId": "b2d81eb5-2896-44c5-8cdd-d96ed40c5657"
      },
      "execution_count": 12,
      "outputs": [
        {
          "output_type": "display_data",
          "data": {
            "text/plain": [
              "<Figure size 600x600 with 0 Axes>"
            ]
          },
          "metadata": {}
        },
        {
          "output_type": "display_data",
          "data": {
            "text/plain": [
              "<Figure size 640x480 with 1 Axes>"
            ],
            "image/png": "[encoded data removed]"
          },
          "metadata": {}
        }
      ]
    },
    {
      "cell_type": "markdown",
      "source": [
        "Decision boundary is a straight line , separating the region for (1,0) and (0,1) so all region are red which is less than 1 means  separating the (0, 0) region (output 1) from all other input combinations (0, 1), (1, 0), (1, 1) (output 0) and its just opposite to the OR gate."
      ],
      "metadata": {
        "id": "W4jlRxjx4zgs"
      }
    },
    {
      "cell_type": "code",
      "source": [
        "# Plot decision boundaries for XOR\n",
        "plot_decision_boundary(\"XOR\", xor_function)"
      ],
      "metadata": {
        "colab": {
          "base_uri": "https://localhost:8080/",
          "height": 489
        },
        "id": "5i199vo41XSv",
        "outputId": "5c3437a8-fac9-4aec-a798-f6b25ad2afc1"
      },
      "execution_count": 13,
      "outputs": [
        {
          "output_type": "display_data",
          "data": {
            "text/plain": [
              "<Figure size 600x600 with 0 Axes>"
            ]
          },
          "metadata": {}
        },
        {
          "output_type": "display_data",
          "data": {
            "text/plain": [
              "<Figure size 640x480 with 1 Axes>"
            ],
            "image/png": "[encoded data removed]"
          },
          "metadata": {}
        }
      ]
    },
    {
      "cell_type": "markdown",
      "source": [
        "Desion boundary is like 2 parallel path because XOR is not linearly separable because no single straight line can separate the 1 outputs from the 0 outputs in the input space. This requires at least two linear boundaries combined, leading to a non-linear decision boundary."
      ],
      "metadata": {
        "id": "lkjpAXI-NZ6C"
      }
    },
    {
      "cell_type": "markdown",
      "source": [
        "# **Task-5**"
      ],
      "metadata": {
        "id": "J_Mlv39a14kt"
      }
    },
    {
      "cell_type": "code",
      "source": [
        "def xor_3_inputs(x1, x2, x3):\n",
        "    \"\"\"\n",
        "    Implements 3-input XOR using the given MP neuron function.\n",
        "    Returns 1 when there are an odd number of 1s in the input.\n",
        "    \"\"\"\n",
        "    # First XOR\n",
        "    first_xor = xor_function(x1, x2)\n",
        "    # Second XOR\n",
        "    final_xor = xor_function(first_xor, x3)\n",
        "    return final_xor"
      ],
      "metadata": {
        "id": "DGgqp8J6Te1l"
      },
      "execution_count": 14,
      "outputs": []
    },
    {
      "cell_type": "code",
      "source": [
        "# Test cases for 4-input XOR\n",
        "\n",
        "print(\"\\nTesting 3-input XOR:\")\n",
        "test_cases = [\n",
        "        (0, 0, 0, 0),\n",
        "        (0, 0, 1, 1),\n",
        "        (0, 1, 0, 1),\n",
        "        (0, 1, 1, 0),\n",
        "        (1, 0, 0, 1),\n",
        "        (1, 0, 1, 0),\n",
        "        (1, 1, 0, 0),\n",
        "        (1, 1, 1, 1),\n",
        "    ]\n",
        "\n",
        "for x1, x2, x3, expected in test_cases:\n",
        "        result = xor_3_inputs(x1, x2, x3)\n",
        "        print(f\"XOR3({x1}, {x2}, {x3}) = {result}, Ground Truth: {expected}\")\n",
        "        assert result == expected, f\"Test case failed: {x1}, {x2}, {x3}\""
      ],
      "metadata": {
        "colab": {
          "base_uri": "https://localhost:8080/"
        },
        "id": "3iXf5BxoTex3",
        "outputId": "cb47e132-bbcd-45c6-94b7-a415807b6542"
      },
      "execution_count": 15,
      "outputs": [
        {
          "output_type": "stream",
          "name": "stdout",
          "text": [
            "\n",
            "Testing 3-input XOR:\n",
            "XOR3(0, 0, 0) = 0, Ground Truth: 0\n",
            "XOR3(0, 0, 1) = 1, Ground Truth: 1\n",
            "XOR3(0, 1, 0) = 1, Ground Truth: 1\n",
            "XOR3(0, 1, 1) = 0, Ground Truth: 0\n",
            "XOR3(1, 0, 0) = 1, Ground Truth: 1\n",
            "XOR3(1, 0, 1) = 0, Ground Truth: 0\n",
            "XOR3(1, 1, 0) = 0, Ground Truth: 0\n",
            "XOR3(1, 1, 1) = 1, Ground Truth: 1\n"
          ]
        }
      ]
    },
    {
      "cell_type": "code",
      "source": [
        "def xor_4_inputs(x1, x2, x3, x4):\n",
        "    \"\"\"\n",
        "    Implements 4-input XOR using the given MP neuron function.\n",
        "    Returns 1 when there are an odd number of 1s in the input.\n",
        "    \"\"\"\n",
        "    # First XOR (x1, x2)\n",
        "    first_xor = xor_function(x1, x2)\n",
        "\n",
        "    # Second XOR (x3, x4)\n",
        "    second_xor = xor_function(x3, x4)\n",
        "\n",
        "    # Final XOR of the results\n",
        "    final_xor = xor_function(first_xor, second_xor)\n",
        "\n",
        "    return final_xor"
      ],
      "metadata": {
        "id": "NkRpEuvwWvQq"
      },
      "execution_count": 16,
      "outputs": []
    },
    {
      "cell_type": "code",
      "source": [
        "# Test cases for 4-input XOR\n",
        "\n",
        "print(\"\\nTesting 4-input XOR:\")\n",
        "test_cases = [\n",
        "        (0, 0, 0, 0, 0),\n",
        "        (0, 0, 0, 1, 1),\n",
        "        (0, 0, 1, 1, 0),\n",
        "        (0, 1, 1, 1, 1),\n",
        "        (1, 1, 1, 1, 0),\n",
        "        (1, 1, 1, 0, 1),\n",
        "        (1, 1, 0, 0, 0),\n",
        "        (1, 0, 0, 0, 1),\n",
        "    ]\n",
        "\n",
        "for x1, x2, x3, x4, expected in test_cases:\n",
        "        result = xor_4_inputs(x1, x2, x3, x4)\n",
        "        print(f\"XOR4({x1}, {x2}, {x3}, {x4}) = {result}, Ground Truth: {expected}\")\n",
        "        assert result == expected, f\"Test case failed: {x1}, {x2}, {x3}, {x4}\"\n"
      ],
      "metadata": {
        "colab": {
          "base_uri": "https://localhost:8080/"
        },
        "id": "Zus20zmfWu_m",
        "outputId": "e7627f3f-a8ff-47f6-dada-5025f7821c3b"
      },
      "execution_count": 17,
      "outputs": [
        {
          "output_type": "stream",
          "name": "stdout",
          "text": [
            "\n",
            "Testing 4-input XOR:\n",
            "XOR4(0, 0, 0, 0) = 0, Ground Truth: 0\n",
            "XOR4(0, 0, 0, 1) = 1, Ground Truth: 1\n",
            "XOR4(0, 0, 1, 1) = 0, Ground Truth: 0\n",
            "XOR4(0, 1, 1, 1) = 1, Ground Truth: 1\n",
            "XOR4(1, 1, 1, 1) = 0, Ground Truth: 0\n",
            "XOR4(1, 1, 1, 0) = 1, Ground Truth: 1\n",
            "XOR4(1, 1, 0, 0) = 0, Ground Truth: 0\n",
            "XOR4(1, 0, 0, 0) = 1, Ground Truth: 1\n"
          ]
        }
      ]
    }
  ]
}